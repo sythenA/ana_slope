{
 "cells": [
  {
   "cell_type": "code",
   "execution_count": 13,
   "metadata": {},
   "outputs": [
    {
     "name": "stdout",
     "output_type": "stream",
     "text": [
      "ie0=20.00\n",
      "ie1=75.00\n",
      "ie2=31.00\n",
      "ToC=560.00\n"
     ]
    }
   ],
   "source": [
    "from two_step import two_step_overland\n",
    "from farPoint import bcdPoints\n",
    "from math import sqrt\n",
    "\n",
    "\n",
    "a1 = two_step_overland(20, 75.0, 31.0, 100.0, 201, 0.5, 0.1, 0.01)\n",
    "a1.ie1_duration(560)\n",
    "a1.run()\n",
    "\n",
    "SDC1, endSlope = bcdPoints(a1)\n",
    "\n",
    "m = 5.0/3\n",
    "alpha = 1.0/0.1*sqrt(0.01)\n",
    "ie1 = 75.0/3600/1000\n",
    "qi1 = ie1*100.0\n",
    "Si1 = m/(m+1)*alpha/ie1*(ie1*100/alpha)**((m+1)/m)\n",
    "\n",
    "qB_i1 = SDC1[0][1]/qi1\n",
    "SB_i1 = SDC1[0][2]/Si1\n",
    "\n",
    "qD_i1 = SDC1[-1][1]/qi1\n",
    "SD_i1 = SDC1[-1][2]/Si1"
   ]
  },
  {
   "cell_type": "code",
   "execution_count": 18,
   "metadata": {},
   "outputs": [
    {
     "data": {
      "text/plain": [
       "(0.6433634426961623, 0.8689606642097606)"
      ]
     },
     "execution_count": 18,
     "metadata": {},
     "output_type": "execute_result"
    }
   ],
   "source": [
    "qB_i1, SB_i1"
   ]
  },
  {
   "cell_type": "code",
   "execution_count": 19,
   "metadata": {},
   "outputs": [
    {
     "data": {
      "text/plain": [
       "(0.5823296736342835, 0.6618545233924507)"
      ]
     },
     "execution_count": 19,
     "metadata": {},
     "output_type": "execute_result"
    }
   ],
   "source": [
    "qD_i1, SD_i1"
   ]
  },
  {
   "cell_type": "code",
   "execution_count": null,
   "metadata": {},
   "outputs": [],
   "source": []
  }
 ],
 "metadata": {
  "kernelspec": {
   "display_name": "Python 2",
   "language": "python",
   "name": "python2"
  },
  "language_info": {
   "codemirror_mode": {
    "name": "ipython",
    "version": 2
   },
   "file_extension": ".py",
   "mimetype": "text/x-python",
   "name": "python",
   "nbconvert_exporter": "python",
   "pygments_lexer": "ipython2",
   "version": "2.7.15"
  }
 },
 "nbformat": 4,
 "nbformat_minor": 2
}
