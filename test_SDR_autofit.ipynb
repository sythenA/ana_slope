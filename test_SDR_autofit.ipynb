{
 "cells": [
  {
   "cell_type": "code",
   "execution_count": 10,
   "metadata": {
    "scrolled": true
   },
   "outputs": [
    {
     "name": "stdout",
     "output_type": "stream",
     "text": [
      "ie0=18.00\n",
      "ie1=57.00\n",
      "ie2=22.00\n",
      "ToC=356.00\n",
      "[[ 0.97118013  0.68860729]\n",
      " [ 1.10344294  0.72436857]\n",
      " [ 1.05495303  0.71050302]\n",
      " [ 1.08355345  0.71031526]\n",
      " [ 1.19636457  0.91746207]\n",
      " [ 1.01875244  0.66217705]\n",
      " [ 1.21471768  0.82479448]\n",
      " [ 0.9750789   0.94421779]\n",
      " [ 0.95574039  0.90269344]\n",
      " [ 1.22769041  0.81352435]]\n",
      "(0.56018406485717487, 0.5908995089251553)\n"
     ]
    }
   ],
   "source": [
    "from SQsearch import RisingLimb, FallingLimb\n",
    "from farPoint import SDRCurves, bcdPoints\n",
    "from ana_new import trans_ana\n",
    "from two_step import two_step_overland\n",
    "from steady_fit import fit_steady\n",
    "import numpy as np\n",
    "import pickle\n",
    "import bezeir_fit as bf\n",
    "from scipy.interpolate import interp1d\n",
    "import matplotlib.pyplot as plt\n",
    "from math import sqrt\n",
    "\n",
    "# Rise = RisingLimb(rec_name='ks1', folder='Steady_fit')\n",
    "# Fall = FallingLimb(rec_name='ks1', folder='Steady_fit')\n",
    "\n",
    "SDR = SDRCurves(100.0, 201, 0.5, 0.1, 0.01, 2, 4, useFile='ks1_SDRrec.pick')\n",
    "\n",
    "ie0 = 18.0\n",
    "ie1 = 57.0\n",
    "ie2 = 22.0\n",
    "ToC = 356.\n",
    "\n",
    "ca = two_step_overland(ie0, ie1, ie2, 100.0, 201, 0.5, 0.1, 0.01)\n",
    "ca.ie1_duration(ToC)\n",
    "ca.run()\n",
    "\n",
    "alpha = 1./0.1*sqrt(0.01)\n",
    "m = 5./3\n",
    "i1 = ie1/3600.0/1000\n",
    "q1 = i1*100.0\n",
    "S1 = m/(m+1)*alpha/i1*(i1*100.0/alpha)**((m+1)/m)\n",
    "\n",
    "SDC = bcdPoints(ca)\n",
    "SDC = np.array(SDC[0])\n",
    "\n",
    "qBi1 = SDC[0][1]/q1\n",
    "SBi1 = SDC[0][2]/S1\n",
    "qDi1 = SDC[-1][1]/q1\n",
    "SDi1 = SDC[-1][2]/S1\n",
    "\n",
    "curve, t = SDR.interpCurve([qBi1, SBi1, qDi1, SDi1])\n",
    "curve[:, 0] = curve[:, 0]*q1\n",
    "curve[:, 1] = curve[:, 1]*S1"
   ]
  },
  {
   "cell_type": "code",
   "execution_count": 9,
   "metadata": {},
   "outputs": [
    {
     "data": {
      "image/png": "[encoded data removed]",
      "text/plain": [
       "<Figure size 432x288 with 1 Axes>"
      ]
     },
     "metadata": {},
     "output_type": "display_data"
    }
   ],
   "source": [
    "plt.figure\n",
    "plt.plot(ca.q_curve[:, 1], ca.s_curve[:, 1], '--k')\n",
    "plt.plot(SDC[:, 1], SDC[:, 2], '-r')\n",
    "plt.plot(curve[:, 0], curve[:, 1], '-b')\n",
    "\n",
    "title = '%6.2f' % ie0 + ' - ' + '%6.2f' % ie1 + ' - ' + '%6.2f' % ie2\n",
    "plt.title(title)\n",
    "# X_LABEL = '$q_B/qD$ = %8.4f' % qBD + '   ' + '$s_B/s_D$ = %8.4f' % sBD +'\\n q($m^2/s$)'\n",
    "# plt.xlabel(X_LABEL)\n",
    "plt.ylabel('s($m^2$)')\n",
    "plt.savefig('new_SDC_3.png', dpi=120)\n",
    "plt.show()"
   ]
  },
  {
   "cell_type": "code",
   "execution_count": null,
   "metadata": {},
   "outputs": [],
   "source": [
    "curve"
   ]
  },
  {
   "cell_type": "code",
   "execution_count": null,
   "metadata": {},
   "outputs": [],
   "source": []
  },
  {
   "cell_type": "code",
   "execution_count": null,
   "metadata": {},
   "outputs": [],
   "source": [
    "plt.figure\n",
    "for i in range(1, 21):\n",
    "    c1 = 1.01 + i*0.1\n",
    "    curve, t = SDR.interpCurve(qBD, c1)\n",
    "    plt.plot(curve[:, 0]*SDC[0][1], curve[:, 1]*SDC[0][2])\n",
    "    plt.plot(ca.q_curve[:, 1], ca.s_curve[:, 1], '--k')\n",
    "plt.show()"
   ]
  },
  {
   "cell_type": "code",
   "execution_count": null,
   "metadata": {},
   "outputs": [],
   "source": [
    "curve"
   ]
  },
  {
   "cell_type": "code",
   "execution_count": null,
   "metadata": {},
   "outputs": [],
   "source": [
    "SDi1"
   ]
  },
  {
   "cell_type": "code",
   "execution_count": null,
   "metadata": {},
   "outputs": [],
   "source": []
  }
 ],
 "metadata": {
  "kernelspec": {
   "display_name": "Python 2",
   "language": "python",
   "name": "python2"
  },
  "language_info": {
   "codemirror_mode": {
    "name": "ipython",
    "version": 2
   },
   "file_extension": ".py",
   "mimetype": "text/x-python",
   "name": "python",
   "nbconvert_exporter": "python",
   "pygments_lexer": "ipython2",
   "version": "2.7.12"
  }
 },
 "nbformat": 4,
 "nbformat_minor": 2
}
