{
 "cells": [
  {
   "cell_type": "code",
   "execution_count": null,
   "metadata": {},
   "outputs": [],
   "source": [
    "import farPoint as fp\n",
    "import matplotlib.pyplot as plt\n",
    "\n",
    "a = fp.SDRCurves(100.0, 201, 0.5, 0.1, 0.01, 2, 4, useFile='ks1_SDRrec.pick')\n",
    "qB2Ratio = self.qB2Ratio\n",
    "sB2Ratio = self.sB2Ratio\n",
    "C1 = self.C1\n",
    "PTs self.PTs\n",
    "\n",
    "for i in range(0, len(qB2Ratio)):\n",
    "    qB2 = qB2Ratio[i]\n",
    "    C1 = C1[i]\n",
    "    "
   ]
  }
 ],
 "metadata": {
  "kernelspec": {
   "display_name": "Python 2",
   "language": "python",
   "name": "python2"
  },
  "language_info": {
   "codemirror_mode": {
    "name": "ipython",
    "version": 2
   },
   "file_extension": ".py",
   "mimetype": "text/x-python",
   "name": "python",
   "nbconvert_exporter": "python",
   "pygments_lexer": "ipython2",
   "version": "2.7.15"
  }
 },
 "nbformat": 4,
 "nbformat_minor": 2
}
